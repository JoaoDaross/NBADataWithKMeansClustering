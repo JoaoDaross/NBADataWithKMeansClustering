{
  "nbformat": 4,
  "nbformat_minor": 0,
  "metadata": {
    "colab": {
      "name": "NBADataWithKMeansClustering.ipynb",
      "provenance": [],
      "authorship_tag": "ABX9TyOdgwC8USHv3SyJhC9Py+Yr",
      "include_colab_link": true
    },
    "kernelspec": {
      "name": "python3",
      "display_name": "Python 3"
    }
  },
  "cells": [
    {
      "cell_type": "markdown",
      "metadata": {
        "id": "view-in-github",
        "colab_type": "text"
      },
      "source": [
        "<a href=\"https://colab.research.google.com/github/JoaoDaross/NBADataWithKMeansClustering/blob/main/NBADataWithKMeansClustering.ipynb\" target=\"_parent\"><img src=\"https://colab.research.google.com/assets/colab-badge.svg\" alt=\"Open In Colab\"/></a>"
      ]
    },
    {
      "cell_type": "markdown",
      "metadata": {
        "id": "ON8E1A7Sp_4-"
      },
      "source": [
        "**Notebook to explore players from NBA 2013 and using Kmeans clustering, group them together to find out similar players**"
      ]
    },
    {
      "cell_type": "code",
      "metadata": {
        "id": "Ep7t9IahpwS5"
      },
      "source": [
        "# import the required dependencies to carry out the work.\n",
        "import pandas as pd\n",
        "import numpy as np\n",
        "import seaborn as sns\n",
        "import matplotlib.pyplot as plt\n",
        "%matplotlib inline"
      ],
      "execution_count": 4,
      "outputs": []
    },
    {
      "cell_type": "code",
      "metadata": {
        "id": "k4Yf2YscqRjV",
        "outputId": "60ff0dee-8d31-4163-b992-b67bbb692209",
        "colab": {
          "base_uri": "https://localhost:8080/",
          "height": 309
        }
      },
      "source": [
        "fonte = 'https://raw.githubusercontent.com/JoaoDaross/NBADataWithKMeansClustering/main/nba_2013.csv'\n",
        "data = pd.read_csv(fonte) # reading the csv file\n",
        "data.head() # display the top 5 records from the dataset\n",
        "# visit https://en.wikipedia.org/wiki/Basketball_statistics to know more about the columns"
      ],
      "execution_count": 5,
      "outputs": [
        {
          "output_type": "execute_result",
          "data": {
            "text/html": [
              "<div>\n",
              "<style scoped>\n",
              "    .dataframe tbody tr th:only-of-type {\n",
              "        vertical-align: middle;\n",
              "    }\n",
              "\n",
              "    .dataframe tbody tr th {\n",
              "        vertical-align: top;\n",
              "    }\n",
              "\n",
              "    .dataframe thead th {\n",
              "        text-align: right;\n",
              "    }\n",
              "</style>\n",
              "<table border=\"1\" class=\"dataframe\">\n",
              "  <thead>\n",
              "    <tr style=\"text-align: right;\">\n",
              "      <th></th>\n",
              "      <th>player</th>\n",
              "      <th>pos</th>\n",
              "      <th>age</th>\n",
              "      <th>bref_team_id</th>\n",
              "      <th>g</th>\n",
              "      <th>gs</th>\n",
              "      <th>mp</th>\n",
              "      <th>fg</th>\n",
              "      <th>fga</th>\n",
              "      <th>fg.</th>\n",
              "      <th>x3p</th>\n",
              "      <th>x3pa</th>\n",
              "      <th>x3p.</th>\n",
              "      <th>x2p</th>\n",
              "      <th>x2pa</th>\n",
              "      <th>x2p.</th>\n",
              "      <th>efg.</th>\n",
              "      <th>ft</th>\n",
              "      <th>fta</th>\n",
              "      <th>ft.</th>\n",
              "      <th>orb</th>\n",
              "      <th>drb</th>\n",
              "      <th>trb</th>\n",
              "      <th>ast</th>\n",
              "      <th>stl</th>\n",
              "      <th>blk</th>\n",
              "      <th>tov</th>\n",
              "      <th>pf</th>\n",
              "      <th>pts</th>\n",
              "      <th>season</th>\n",
              "      <th>season_end</th>\n",
              "    </tr>\n",
              "  </thead>\n",
              "  <tbody>\n",
              "    <tr>\n",
              "      <th>0</th>\n",
              "      <td>Quincy Acy</td>\n",
              "      <td>SF</td>\n",
              "      <td>23</td>\n",
              "      <td>TOT</td>\n",
              "      <td>63</td>\n",
              "      <td>0</td>\n",
              "      <td>847</td>\n",
              "      <td>66</td>\n",
              "      <td>141</td>\n",
              "      <td>0.468</td>\n",
              "      <td>4</td>\n",
              "      <td>15</td>\n",
              "      <td>0.266667</td>\n",
              "      <td>62</td>\n",
              "      <td>126</td>\n",
              "      <td>0.492063</td>\n",
              "      <td>0.482</td>\n",
              "      <td>35</td>\n",
              "      <td>53</td>\n",
              "      <td>0.660</td>\n",
              "      <td>72</td>\n",
              "      <td>144</td>\n",
              "      <td>216</td>\n",
              "      <td>28</td>\n",
              "      <td>23</td>\n",
              "      <td>26</td>\n",
              "      <td>30</td>\n",
              "      <td>122</td>\n",
              "      <td>171</td>\n",
              "      <td>2013-2014</td>\n",
              "      <td>2013</td>\n",
              "    </tr>\n",
              "    <tr>\n",
              "      <th>1</th>\n",
              "      <td>Steven Adams</td>\n",
              "      <td>C</td>\n",
              "      <td>20</td>\n",
              "      <td>OKC</td>\n",
              "      <td>81</td>\n",
              "      <td>20</td>\n",
              "      <td>1197</td>\n",
              "      <td>93</td>\n",
              "      <td>185</td>\n",
              "      <td>0.503</td>\n",
              "      <td>0</td>\n",
              "      <td>0</td>\n",
              "      <td>NaN</td>\n",
              "      <td>93</td>\n",
              "      <td>185</td>\n",
              "      <td>0.502703</td>\n",
              "      <td>0.503</td>\n",
              "      <td>79</td>\n",
              "      <td>136</td>\n",
              "      <td>0.581</td>\n",
              "      <td>142</td>\n",
              "      <td>190</td>\n",
              "      <td>332</td>\n",
              "      <td>43</td>\n",
              "      <td>40</td>\n",
              "      <td>57</td>\n",
              "      <td>71</td>\n",
              "      <td>203</td>\n",
              "      <td>265</td>\n",
              "      <td>2013-2014</td>\n",
              "      <td>2013</td>\n",
              "    </tr>\n",
              "    <tr>\n",
              "      <th>2</th>\n",
              "      <td>Jeff Adrien</td>\n",
              "      <td>PF</td>\n",
              "      <td>27</td>\n",
              "      <td>TOT</td>\n",
              "      <td>53</td>\n",
              "      <td>12</td>\n",
              "      <td>961</td>\n",
              "      <td>143</td>\n",
              "      <td>275</td>\n",
              "      <td>0.520</td>\n",
              "      <td>0</td>\n",
              "      <td>0</td>\n",
              "      <td>NaN</td>\n",
              "      <td>143</td>\n",
              "      <td>275</td>\n",
              "      <td>0.520000</td>\n",
              "      <td>0.520</td>\n",
              "      <td>76</td>\n",
              "      <td>119</td>\n",
              "      <td>0.639</td>\n",
              "      <td>102</td>\n",
              "      <td>204</td>\n",
              "      <td>306</td>\n",
              "      <td>38</td>\n",
              "      <td>24</td>\n",
              "      <td>36</td>\n",
              "      <td>39</td>\n",
              "      <td>108</td>\n",
              "      <td>362</td>\n",
              "      <td>2013-2014</td>\n",
              "      <td>2013</td>\n",
              "    </tr>\n",
              "    <tr>\n",
              "      <th>3</th>\n",
              "      <td>Arron Afflalo</td>\n",
              "      <td>SG</td>\n",
              "      <td>28</td>\n",
              "      <td>ORL</td>\n",
              "      <td>73</td>\n",
              "      <td>73</td>\n",
              "      <td>2552</td>\n",
              "      <td>464</td>\n",
              "      <td>1011</td>\n",
              "      <td>0.459</td>\n",
              "      <td>128</td>\n",
              "      <td>300</td>\n",
              "      <td>0.426667</td>\n",
              "      <td>336</td>\n",
              "      <td>711</td>\n",
              "      <td>0.472574</td>\n",
              "      <td>0.522</td>\n",
              "      <td>274</td>\n",
              "      <td>336</td>\n",
              "      <td>0.815</td>\n",
              "      <td>32</td>\n",
              "      <td>230</td>\n",
              "      <td>262</td>\n",
              "      <td>248</td>\n",
              "      <td>35</td>\n",
              "      <td>3</td>\n",
              "      <td>146</td>\n",
              "      <td>136</td>\n",
              "      <td>1330</td>\n",
              "      <td>2013-2014</td>\n",
              "      <td>2013</td>\n",
              "    </tr>\n",
              "    <tr>\n",
              "      <th>4</th>\n",
              "      <td>Alexis Ajinca</td>\n",
              "      <td>C</td>\n",
              "      <td>25</td>\n",
              "      <td>NOP</td>\n",
              "      <td>56</td>\n",
              "      <td>30</td>\n",
              "      <td>951</td>\n",
              "      <td>136</td>\n",
              "      <td>249</td>\n",
              "      <td>0.546</td>\n",
              "      <td>0</td>\n",
              "      <td>1</td>\n",
              "      <td>0.000000</td>\n",
              "      <td>136</td>\n",
              "      <td>248</td>\n",
              "      <td>0.548387</td>\n",
              "      <td>0.546</td>\n",
              "      <td>56</td>\n",
              "      <td>67</td>\n",
              "      <td>0.836</td>\n",
              "      <td>94</td>\n",
              "      <td>183</td>\n",
              "      <td>277</td>\n",
              "      <td>40</td>\n",
              "      <td>23</td>\n",
              "      <td>46</td>\n",
              "      <td>63</td>\n",
              "      <td>187</td>\n",
              "      <td>328</td>\n",
              "      <td>2013-2014</td>\n",
              "      <td>2013</td>\n",
              "    </tr>\n",
              "  </tbody>\n",
              "</table>\n",
              "</div>"
            ],
            "text/plain": [
              "          player pos  age bref_team_id  ...   pf   pts     season  season_end\n",
              "0     Quincy Acy  SF   23          TOT  ...  122   171  2013-2014        2013\n",
              "1   Steven Adams   C   20          OKC  ...  203   265  2013-2014        2013\n",
              "2    Jeff Adrien  PF   27          TOT  ...  108   362  2013-2014        2013\n",
              "3  Arron Afflalo  SG   28          ORL  ...  136  1330  2013-2014        2013\n",
              "4  Alexis Ajinca   C   25          NOP  ...  187   328  2013-2014        2013\n",
              "\n",
              "[5 rows x 31 columns]"
            ]
          },
          "metadata": {
            "tags": []
          },
          "execution_count": 5
        }
      ]
    },
    {
      "cell_type": "code",
      "metadata": {
        "id": "r0zrdSecq4-X",
        "outputId": "852210d7-129b-49dc-ae12-8050d344d5d3",
        "colab": {
          "base_uri": "https://localhost:8080/"
        }
      },
      "source": [
        "print(data.shape) # print the shape of the dataset - 481 rows and 31 columns\n",
        "data.info() #information about each column"
      ],
      "execution_count": 6,
      "outputs": [
        {
          "output_type": "stream",
          "text": [
            "(481, 31)\n",
            "<class 'pandas.core.frame.DataFrame'>\n",
            "RangeIndex: 481 entries, 0 to 480\n",
            "Data columns (total 31 columns):\n",
            " #   Column        Non-Null Count  Dtype  \n",
            "---  ------        --------------  -----  \n",
            " 0   player        481 non-null    object \n",
            " 1   pos           481 non-null    object \n",
            " 2   age           481 non-null    int64  \n",
            " 3   bref_team_id  481 non-null    object \n",
            " 4   g             481 non-null    int64  \n",
            " 5   gs            481 non-null    int64  \n",
            " 6   mp            481 non-null    int64  \n",
            " 7   fg            481 non-null    int64  \n",
            " 8   fga           481 non-null    int64  \n",
            " 9   fg.           479 non-null    float64\n",
            " 10  x3p           481 non-null    int64  \n",
            " 11  x3pa          481 non-null    int64  \n",
            " 12  x3p.          414 non-null    float64\n",
            " 13  x2p           481 non-null    int64  \n",
            " 14  x2pa          481 non-null    int64  \n",
            " 15  x2p.          478 non-null    float64\n",
            " 16  efg.          479 non-null    float64\n",
            " 17  ft            481 non-null    int64  \n",
            " 18  fta           481 non-null    int64  \n",
            " 19  ft.           461 non-null    float64\n",
            " 20  orb           481 non-null    int64  \n",
            " 21  drb           481 non-null    int64  \n",
            " 22  trb           481 non-null    int64  \n",
            " 23  ast           481 non-null    int64  \n",
            " 24  stl           481 non-null    int64  \n",
            " 25  blk           481 non-null    int64  \n",
            " 26  tov           481 non-null    int64  \n",
            " 27  pf            481 non-null    int64  \n",
            " 28  pts           481 non-null    int64  \n",
            " 29  season        481 non-null    object \n",
            " 30  season_end    481 non-null    int64  \n",
            "dtypes: float64(5), int64(22), object(4)\n",
            "memory usage: 116.6+ KB\n"
          ],
          "name": "stdout"
        }
      ]
    },
    {
      "cell_type": "code",
      "metadata": {
        "id": "1fUxCcC0q9W3",
        "outputId": "22231b59-e17c-4533-ce3e-7e5cf4231ff9",
        "colab": {
          "base_uri": "https://localhost:8080/",
          "height": 317
        }
      },
      "source": [
        "data.describe() #getting statistics on each column in the field"
      ],
      "execution_count": 7,
      "outputs": [
        {
          "output_type": "execute_result",
          "data": {
            "text/html": [
              "<div>\n",
              "<style scoped>\n",
              "    .dataframe tbody tr th:only-of-type {\n",
              "        vertical-align: middle;\n",
              "    }\n",
              "\n",
              "    .dataframe tbody tr th {\n",
              "        vertical-align: top;\n",
              "    }\n",
              "\n",
              "    .dataframe thead th {\n",
              "        text-align: right;\n",
              "    }\n",
              "</style>\n",
              "<table border=\"1\" class=\"dataframe\">\n",
              "  <thead>\n",
              "    <tr style=\"text-align: right;\">\n",
              "      <th></th>\n",
              "      <th>age</th>\n",
              "      <th>g</th>\n",
              "      <th>gs</th>\n",
              "      <th>mp</th>\n",
              "      <th>fg</th>\n",
              "      <th>fga</th>\n",
              "      <th>fg.</th>\n",
              "      <th>x3p</th>\n",
              "      <th>x3pa</th>\n",
              "      <th>x3p.</th>\n",
              "      <th>x2p</th>\n",
              "      <th>x2pa</th>\n",
              "      <th>x2p.</th>\n",
              "      <th>efg.</th>\n",
              "      <th>ft</th>\n",
              "      <th>fta</th>\n",
              "      <th>ft.</th>\n",
              "      <th>orb</th>\n",
              "      <th>drb</th>\n",
              "      <th>trb</th>\n",
              "      <th>ast</th>\n",
              "      <th>stl</th>\n",
              "      <th>blk</th>\n",
              "      <th>tov</th>\n",
              "      <th>pf</th>\n",
              "      <th>pts</th>\n",
              "      <th>season_end</th>\n",
              "    </tr>\n",
              "  </thead>\n",
              "  <tbody>\n",
              "    <tr>\n",
              "      <th>count</th>\n",
              "      <td>481.000000</td>\n",
              "      <td>481.000000</td>\n",
              "      <td>481.000000</td>\n",
              "      <td>481.000000</td>\n",
              "      <td>481.000000</td>\n",
              "      <td>481.000000</td>\n",
              "      <td>479.000000</td>\n",
              "      <td>481.000000</td>\n",
              "      <td>481.000000</td>\n",
              "      <td>414.000000</td>\n",
              "      <td>481.000000</td>\n",
              "      <td>481.000000</td>\n",
              "      <td>478.000000</td>\n",
              "      <td>479.000000</td>\n",
              "      <td>481.000000</td>\n",
              "      <td>481.000000</td>\n",
              "      <td>461.000000</td>\n",
              "      <td>481.000000</td>\n",
              "      <td>481.000000</td>\n",
              "      <td>481.000000</td>\n",
              "      <td>481.000000</td>\n",
              "      <td>481.000000</td>\n",
              "      <td>481.000000</td>\n",
              "      <td>481.000000</td>\n",
              "      <td>481.000000</td>\n",
              "      <td>481.000000</td>\n",
              "      <td>481.0</td>\n",
              "    </tr>\n",
              "    <tr>\n",
              "      <th>mean</th>\n",
              "      <td>26.509356</td>\n",
              "      <td>53.253638</td>\n",
              "      <td>25.571726</td>\n",
              "      <td>1237.386694</td>\n",
              "      <td>192.881497</td>\n",
              "      <td>424.463617</td>\n",
              "      <td>0.436436</td>\n",
              "      <td>39.613306</td>\n",
              "      <td>110.130977</td>\n",
              "      <td>0.285111</td>\n",
              "      <td>153.268191</td>\n",
              "      <td>314.332640</td>\n",
              "      <td>0.466947</td>\n",
              "      <td>0.480752</td>\n",
              "      <td>91.205821</td>\n",
              "      <td>120.642412</td>\n",
              "      <td>0.722419</td>\n",
              "      <td>55.810811</td>\n",
              "      <td>162.817048</td>\n",
              "      <td>218.627859</td>\n",
              "      <td>112.536383</td>\n",
              "      <td>39.280665</td>\n",
              "      <td>24.103950</td>\n",
              "      <td>71.862786</td>\n",
              "      <td>105.869023</td>\n",
              "      <td>516.582121</td>\n",
              "      <td>2013.0</td>\n",
              "    </tr>\n",
              "    <tr>\n",
              "      <th>std</th>\n",
              "      <td>4.198265</td>\n",
              "      <td>25.322711</td>\n",
              "      <td>29.658465</td>\n",
              "      <td>897.258840</td>\n",
              "      <td>171.832793</td>\n",
              "      <td>368.850833</td>\n",
              "      <td>0.098672</td>\n",
              "      <td>50.855639</td>\n",
              "      <td>132.751732</td>\n",
              "      <td>0.157633</td>\n",
              "      <td>147.223161</td>\n",
              "      <td>294.174554</td>\n",
              "      <td>0.104448</td>\n",
              "      <td>0.099552</td>\n",
              "      <td>103.667725</td>\n",
              "      <td>131.240639</td>\n",
              "      <td>0.160166</td>\n",
              "      <td>62.101191</td>\n",
              "      <td>145.348116</td>\n",
              "      <td>200.356507</td>\n",
              "      <td>131.019557</td>\n",
              "      <td>34.783590</td>\n",
              "      <td>30.875381</td>\n",
              "      <td>62.701690</td>\n",
              "      <td>71.213627</td>\n",
              "      <td>470.422228</td>\n",
              "      <td>0.0</td>\n",
              "    </tr>\n",
              "    <tr>\n",
              "      <th>min</th>\n",
              "      <td>19.000000</td>\n",
              "      <td>1.000000</td>\n",
              "      <td>0.000000</td>\n",
              "      <td>1.000000</td>\n",
              "      <td>0.000000</td>\n",
              "      <td>0.000000</td>\n",
              "      <td>0.000000</td>\n",
              "      <td>0.000000</td>\n",
              "      <td>0.000000</td>\n",
              "      <td>0.000000</td>\n",
              "      <td>0.000000</td>\n",
              "      <td>0.000000</td>\n",
              "      <td>0.000000</td>\n",
              "      <td>0.000000</td>\n",
              "      <td>0.000000</td>\n",
              "      <td>0.000000</td>\n",
              "      <td>0.000000</td>\n",
              "      <td>0.000000</td>\n",
              "      <td>0.000000</td>\n",
              "      <td>0.000000</td>\n",
              "      <td>0.000000</td>\n",
              "      <td>0.000000</td>\n",
              "      <td>0.000000</td>\n",
              "      <td>0.000000</td>\n",
              "      <td>0.000000</td>\n",
              "      <td>0.000000</td>\n",
              "      <td>2013.0</td>\n",
              "    </tr>\n",
              "    <tr>\n",
              "      <th>25%</th>\n",
              "      <td>23.000000</td>\n",
              "      <td>32.000000</td>\n",
              "      <td>0.000000</td>\n",
              "      <td>388.000000</td>\n",
              "      <td>47.000000</td>\n",
              "      <td>110.000000</td>\n",
              "      <td>0.400500</td>\n",
              "      <td>0.000000</td>\n",
              "      <td>3.000000</td>\n",
              "      <td>0.234355</td>\n",
              "      <td>31.000000</td>\n",
              "      <td>67.000000</td>\n",
              "      <td>0.434719</td>\n",
              "      <td>0.451000</td>\n",
              "      <td>16.000000</td>\n",
              "      <td>22.000000</td>\n",
              "      <td>0.654000</td>\n",
              "      <td>12.000000</td>\n",
              "      <td>43.000000</td>\n",
              "      <td>55.000000</td>\n",
              "      <td>20.000000</td>\n",
              "      <td>9.000000</td>\n",
              "      <td>4.000000</td>\n",
              "      <td>21.000000</td>\n",
              "      <td>44.000000</td>\n",
              "      <td>115.000000</td>\n",
              "      <td>2013.0</td>\n",
              "    </tr>\n",
              "    <tr>\n",
              "      <th>50%</th>\n",
              "      <td>26.000000</td>\n",
              "      <td>61.000000</td>\n",
              "      <td>10.000000</td>\n",
              "      <td>1141.000000</td>\n",
              "      <td>146.000000</td>\n",
              "      <td>332.000000</td>\n",
              "      <td>0.438000</td>\n",
              "      <td>16.000000</td>\n",
              "      <td>48.000000</td>\n",
              "      <td>0.330976</td>\n",
              "      <td>110.000000</td>\n",
              "      <td>227.000000</td>\n",
              "      <td>0.474475</td>\n",
              "      <td>0.488000</td>\n",
              "      <td>53.000000</td>\n",
              "      <td>73.000000</td>\n",
              "      <td>0.751000</td>\n",
              "      <td>35.000000</td>\n",
              "      <td>135.000000</td>\n",
              "      <td>168.000000</td>\n",
              "      <td>65.000000</td>\n",
              "      <td>32.000000</td>\n",
              "      <td>14.000000</td>\n",
              "      <td>58.000000</td>\n",
              "      <td>104.000000</td>\n",
              "      <td>401.000000</td>\n",
              "      <td>2013.0</td>\n",
              "    </tr>\n",
              "    <tr>\n",
              "      <th>75%</th>\n",
              "      <td>29.000000</td>\n",
              "      <td>76.000000</td>\n",
              "      <td>54.000000</td>\n",
              "      <td>2016.000000</td>\n",
              "      <td>307.000000</td>\n",
              "      <td>672.000000</td>\n",
              "      <td>0.479500</td>\n",
              "      <td>68.000000</td>\n",
              "      <td>193.000000</td>\n",
              "      <td>0.375000</td>\n",
              "      <td>230.000000</td>\n",
              "      <td>459.000000</td>\n",
              "      <td>0.513729</td>\n",
              "      <td>0.526000</td>\n",
              "      <td>126.000000</td>\n",
              "      <td>179.000000</td>\n",
              "      <td>0.821000</td>\n",
              "      <td>73.000000</td>\n",
              "      <td>230.000000</td>\n",
              "      <td>310.000000</td>\n",
              "      <td>152.000000</td>\n",
              "      <td>60.000000</td>\n",
              "      <td>32.000000</td>\n",
              "      <td>108.000000</td>\n",
              "      <td>158.000000</td>\n",
              "      <td>821.000000</td>\n",
              "      <td>2013.0</td>\n",
              "    </tr>\n",
              "    <tr>\n",
              "      <th>max</th>\n",
              "      <td>39.000000</td>\n",
              "      <td>83.000000</td>\n",
              "      <td>82.000000</td>\n",
              "      <td>3122.000000</td>\n",
              "      <td>849.000000</td>\n",
              "      <td>1688.000000</td>\n",
              "      <td>1.000000</td>\n",
              "      <td>261.000000</td>\n",
              "      <td>615.000000</td>\n",
              "      <td>1.000000</td>\n",
              "      <td>706.000000</td>\n",
              "      <td>1408.000000</td>\n",
              "      <td>1.000000</td>\n",
              "      <td>1.000000</td>\n",
              "      <td>703.000000</td>\n",
              "      <td>805.000000</td>\n",
              "      <td>1.000000</td>\n",
              "      <td>440.000000</td>\n",
              "      <td>783.000000</td>\n",
              "      <td>1114.000000</td>\n",
              "      <td>721.000000</td>\n",
              "      <td>191.000000</td>\n",
              "      <td>219.000000</td>\n",
              "      <td>295.000000</td>\n",
              "      <td>273.000000</td>\n",
              "      <td>2593.000000</td>\n",
              "      <td>2013.0</td>\n",
              "    </tr>\n",
              "  </tbody>\n",
              "</table>\n",
              "</div>"
            ],
            "text/plain": [
              "              age           g          gs  ...          pf          pts  season_end\n",
              "count  481.000000  481.000000  481.000000  ...  481.000000   481.000000       481.0\n",
              "mean    26.509356   53.253638   25.571726  ...  105.869023   516.582121      2013.0\n",
              "std      4.198265   25.322711   29.658465  ...   71.213627   470.422228         0.0\n",
              "min     19.000000    1.000000    0.000000  ...    0.000000     0.000000      2013.0\n",
              "25%     23.000000   32.000000    0.000000  ...   44.000000   115.000000      2013.0\n",
              "50%     26.000000   61.000000   10.000000  ...  104.000000   401.000000      2013.0\n",
              "75%     29.000000   76.000000   54.000000  ...  158.000000   821.000000      2013.0\n",
              "max     39.000000   83.000000   82.000000  ...  273.000000  2593.000000      2013.0\n",
              "\n",
              "[8 rows x 27 columns]"
            ]
          },
          "metadata": {
            "tags": []
          },
          "execution_count": 7
        }
      ]
    },
    {
      "cell_type": "code",
      "metadata": {
        "id": "gEZegA3Bq-zu",
        "outputId": "1a3c3289-65ed-4c85-c3ec-42496224b2e9",
        "colab": {
          "base_uri": "https://localhost:8080/"
        }
      },
      "source": [
        "data.loc[:,['fg','fga']].mean() # to find the mean of fildgoals made vs attempted"
      ],
      "execution_count": 8,
      "outputs": [
        {
          "output_type": "execute_result",
          "data": {
            "text/plain": [
              "fg     192.881497\n",
              "fga    424.463617\n",
              "dtype: float64"
            ]
          },
          "metadata": {
            "tags": []
          },
          "execution_count": 8
        }
      ]
    },
    {
      "cell_type": "code",
      "metadata": {
        "id": "Jk3qUtKmrEoT",
        "outputId": "859bfdcd-b426-42bb-cf62-5a496dbaf041",
        "colab": {
          "base_uri": "https://localhost:8080/",
          "height": 286
        }
      },
      "source": [
        "sns.heatmap(data[['fg','age','x3p','ft','pts']].corr(),annot= True)"
      ],
      "execution_count": 9,
      "outputs": [
        {
          "output_type": "execute_result",
          "data": {
            "text/plain": [
              "<matplotlib.axes._subplots.AxesSubplot at 0x7f11b31bb898>"
            ]
          },
          "metadata": {
            "tags": []
          },
          "execution_count": 9
        },
        {
          "output_type": "display_data",
          "data": {
            "image/png": "[encoded data removed]",
            "text/plain": [
              "<Figure size 432x288 with 2 Axes>"
            ]
          },
          "metadata": {
            "tags": [],
            "needs_background": "light"
          }
        }
      ]
    },
    {
      "cell_type": "markdown",
      "metadata": {
        "id": "GvxNHqP9rNwc"
      },
      "source": [
        "Points made my a player is highly correlated to :\n",
        "\n",
        "Field goals - 99%\n",
        "\n",
        "Free Throws made (93%)\n",
        "\n",
        "66% with 3 point shots\n",
        "\n",
        "Age is not a factor when considering Points"
      ]
    },
    {
      "cell_type": "code",
      "metadata": {
        "id": "TCbaWbJFrSm4",
        "outputId": "da6e5051-83de-46cc-e5c3-50294d4e151f",
        "colab": {
          "base_uri": "https://localhost:8080/"
        }
      },
      "source": [
        "# let us cluster the players using KMeans clustering method\n",
        "from sklearn.cluster import KMeans\n",
        "kmean_model = KMeans(n_clusters = 5,random_state = 41) #create the kmeans model with 5 clusters\n",
        "num_columns = data._get_numeric_data().dropna(axis = 1) #get only numeric data from dataset and remove missing data\n",
        "kmean_model.fit(num_columns) #train the model\n",
        "labels = kmean_model.labels_  #get the labels\n",
        "print(labels)"
      ],
      "execution_count": 10,
      "outputs": [
        {
          "output_type": "stream",
          "text": [
            "[0 0 0 4 0 2 4 0 3 3 3 2 3 3 1 0 3 4 2 0 1 2 0 0 1 2 0 2 2 2 3 3 1 3 2 1 3\n",
            " 4 3 2 0 4 0 1 0 3 2 2 0 3 3 3 3 2 2 3 0 3 1 4 1 3 1 2 3 2 2 2 2 0 2 1 1 3\n",
            " 1 2 2 0 0 0 1 3 2 1 1 4 3 1 3 1 2 2 0 2 2 3 2 1 3 4 2 4 2 2 1 1 0 3 2 2 4\n",
            " 3 2 2 2 4 0 3 2 2 2 0 1 4 1 0 0 0 4 4 3 1 1 4 2 2 4 2 0 0 1 1 0 2 1 2 3 2\n",
            " 3 3 1 2 2 0 1 0 0 0 1 1 4 0 4 1 3 2 2 2 2 2 1 4 0 2 3 3 1 4 0 4 2 0 2 0 3\n",
            " 4 3 2 2 0 2 2 2 1 0 1 0 4 1 0 1 1 1 3 1 3 2 1 0 2 2 0 4 0 3 4 3 3 4 2 1 1\n",
            " 2 2 2 4 2 2 2 4 1 2 4 0 1 0 0 4 2 1 2 2 0 2 1 1 0 0 1 2 3 3 0 4 1 3 2 2 0\n",
            " 3 2 2 1 2 1 4 2 1 2 0 0 2 4 1 3 0 1 4 4 2 3 0 1 3 0 0 1 2 4 2 2 3 0 0 2 2\n",
            " 1 1 1 2 1 0 0 0 3 0 3 4 2 2 4 3 2 3 1 3 0 2 3 2 2 2 2 2 2 2 0 2 1 0 4 2 4\n",
            " 2 0 0 2 1 3 2 2 0 3 2 1 4 3 1 1 0 1 2 3 1 2 2 2 0 2 2 0 3 2 2 2 4 0 2 0 3\n",
            " 2 3 0 0 0 2 1 1 2 0 3 0 0 3 3 3 0 1 2 2 3 0 0 1 2 2 2 2 2 0 1 0 4 0 2 0 3\n",
            " 2 4 0 2 3 1 1 0 2 4 2 3 0 2 2 2 4 2 2 3 3 4 1 3 2 0 1 0 2 4 2 0 0 1 3 2 3\n",
            " 0 2 1 2 1 1 4 4 3 2 0 2 2 1 4 3 2 2 1 3 0 3 3 3 2 0 0 3 2 0 2 0 1 1 4 3 0]\n"
          ],
          "name": "stdout"
        }
      ]
    },
    {
      "cell_type": "markdown",
      "metadata": {
        "id": "We3E7BhhrYE-"
      },
      "source": [
        "\n",
        "We get numbers between 0 to 4 - Meaning it has created 5 new clusters"
      ]
    },
    {
      "cell_type": "code",
      "metadata": {
        "id": "i89kBPWGrWYI",
        "outputId": "8db62d37-3088-47c7-bab3-0713d5ca430a",
        "colab": {
          "base_uri": "https://localhost:8080/",
          "height": 374
        }
      },
      "source": [
        "plt.figure(figsize=(8,6))\n",
        "from sklearn.decomposition import PCA\n",
        "pca = PCA(2)\n",
        "plot_pca = pca.fit_transform(num_columns)\n",
        "plt.scatter(x= plot_pca[:,0], y = plot_pca[:,1],c= labels)\n",
        "plt.show() # we see that the labels have been clusteres"
      ],
      "execution_count": 11,
      "outputs": [
        {
          "output_type": "display_data",
          "data": {
            "image/png": "[encoded data removed]",
            "text/plain": [
              "<Figure size 576x432 with 1 Axes>"
            ]
          },
          "metadata": {
            "tags": [],
            "needs_background": "light"
          }
        }
      ]
    },
    {
      "cell_type": "code",
      "metadata": {
        "id": "1O_BGloqrh1V",
        "outputId": "fe71b470-f54d-417b-8136-26f98b211f6b",
        "colab": {
          "base_uri": "https://localhost:8080/",
          "height": 80
        }
      },
      "source": [
        "#Find player LeBron\n",
        "LeBron = num_columns.loc[data['player']=='LeBron James',:] \n",
        "#Find player Kevin Durant\n",
        "KD = num_columns.loc[data['player']=='Kevin Durant',:]\n",
        "KD"
      ],
      "execution_count": 12,
      "outputs": [
        {
          "output_type": "execute_result",
          "data": {
            "text/html": [
              "<div>\n",
              "<style scoped>\n",
              "    .dataframe tbody tr th:only-of-type {\n",
              "        vertical-align: middle;\n",
              "    }\n",
              "\n",
              "    .dataframe tbody tr th {\n",
              "        vertical-align: top;\n",
              "    }\n",
              "\n",
              "    .dataframe thead th {\n",
              "        text-align: right;\n",
              "    }\n",
              "</style>\n",
              "<table border=\"1\" class=\"dataframe\">\n",
              "  <thead>\n",
              "    <tr style=\"text-align: right;\">\n",
              "      <th></th>\n",
              "      <th>age</th>\n",
              "      <th>g</th>\n",
              "      <th>gs</th>\n",
              "      <th>mp</th>\n",
              "      <th>fg</th>\n",
              "      <th>fga</th>\n",
              "      <th>x3p</th>\n",
              "      <th>x3pa</th>\n",
              "      <th>x2p</th>\n",
              "      <th>x2pa</th>\n",
              "      <th>ft</th>\n",
              "      <th>fta</th>\n",
              "      <th>orb</th>\n",
              "      <th>drb</th>\n",
              "      <th>trb</th>\n",
              "      <th>ast</th>\n",
              "      <th>stl</th>\n",
              "      <th>blk</th>\n",
              "      <th>tov</th>\n",
              "      <th>pf</th>\n",
              "      <th>pts</th>\n",
              "      <th>season_end</th>\n",
              "    </tr>\n",
              "  </thead>\n",
              "  <tbody>\n",
              "    <tr>\n",
              "      <th>133</th>\n",
              "      <td>25</td>\n",
              "      <td>81</td>\n",
              "      <td>81</td>\n",
              "      <td>3122</td>\n",
              "      <td>849</td>\n",
              "      <td>1688</td>\n",
              "      <td>192</td>\n",
              "      <td>491</td>\n",
              "      <td>657</td>\n",
              "      <td>1197</td>\n",
              "      <td>703</td>\n",
              "      <td>805</td>\n",
              "      <td>58</td>\n",
              "      <td>540</td>\n",
              "      <td>598</td>\n",
              "      <td>445</td>\n",
              "      <td>103</td>\n",
              "      <td>59</td>\n",
              "      <td>285</td>\n",
              "      <td>174</td>\n",
              "      <td>2593</td>\n",
              "      <td>2013</td>\n",
              "    </tr>\n",
              "  </tbody>\n",
              "</table>\n",
              "</div>"
            ],
            "text/plain": [
              "     age   g  gs    mp   fg   fga  ...  stl  blk  tov   pf   pts  season_end\n",
              "133   25  81  81  3122  849  1688  ...  103   59  285  174  2593        2013\n",
              "\n",
              "[1 rows x 22 columns]"
            ]
          },
          "metadata": {
            "tags": []
          },
          "execution_count": 12
        }
      ]
    },
    {
      "cell_type": "code",
      "metadata": {
        "id": "y5qBCpOOrnEz"
      },
      "source": [
        "LeBron_list = LeBron.values.tolist() # kmeans model needs a list value and hence we changed it to list.\n",
        "Kevin_list = KD.values.tolist()"
      ],
      "execution_count": 13,
      "outputs": []
    },
    {
      "cell_type": "code",
      "metadata": {
        "id": "IL6qzeXVrvjj",
        "outputId": "1745e825-66a2-4b70-b758-dddbea668bc8",
        "colab": {
          "base_uri": "https://localhost:8080/"
        }
      },
      "source": [
        "print(kmean_model.predict(LeBron_list)) \n",
        "print(kmean_model.predict(Kevin_list))\n",
        "# we check on which clusters do LeBron and Kevin belong to"
      ],
      "execution_count": 14,
      "outputs": [
        {
          "output_type": "stream",
          "text": [
            "[4]\n",
            "[4]\n"
          ],
          "name": "stdout"
        }
      ]
    },
    {
      "cell_type": "code",
      "metadata": {
        "id": "q1nmOr2przsE",
        "outputId": "23ebfa8b-51d3-4e15-d140-9be91aea57c4",
        "colab": {
          "base_uri": "https://localhost:8080/",
          "height": 1000
        }
      },
      "source": [
        "cluster_map = pd.DataFrame() # a new dataframe\n",
        "cluster_map['player_name'] = data.player.values # get the vlaues of players and add them to the dataframe\n",
        "cluster_map['cluster_no.'] = labels #we add the clusters column to display \n",
        "cluster_map[cluster_map['cluster_no.'] == 4] ##displays the player of each cluster input"
      ],
      "execution_count": 15,
      "outputs": [
        {
          "output_type": "execute_result",
          "data": {
            "text/html": [
              "<div>\n",
              "<style scoped>\n",
              "    .dataframe tbody tr th:only-of-type {\n",
              "        vertical-align: middle;\n",
              "    }\n",
              "\n",
              "    .dataframe tbody tr th {\n",
              "        vertical-align: top;\n",
              "    }\n",
              "\n",
              "    .dataframe thead th {\n",
              "        text-align: right;\n",
              "    }\n",
              "</style>\n",
              "<table border=\"1\" class=\"dataframe\">\n",
              "  <thead>\n",
              "    <tr style=\"text-align: right;\">\n",
              "      <th></th>\n",
              "      <th>player_name</th>\n",
              "      <th>cluster_no.</th>\n",
              "    </tr>\n",
              "  </thead>\n",
              "  <tbody>\n",
              "    <tr>\n",
              "      <th>3</th>\n",
              "      <td>Arron Afflalo</td>\n",
              "      <td>4</td>\n",
              "    </tr>\n",
              "    <tr>\n",
              "      <th>6</th>\n",
              "      <td>LaMarcus Aldridge</td>\n",
              "      <td>4</td>\n",
              "    </tr>\n",
              "    <tr>\n",
              "      <th>17</th>\n",
              "      <td>Carmelo Anthony</td>\n",
              "      <td>4</td>\n",
              "    </tr>\n",
              "    <tr>\n",
              "      <th>37</th>\n",
              "      <td>Nicolas Batum</td>\n",
              "      <td>4</td>\n",
              "    </tr>\n",
              "    <tr>\n",
              "      <th>41</th>\n",
              "      <td>Bradley Beal</td>\n",
              "      <td>4</td>\n",
              "    </tr>\n",
              "    <tr>\n",
              "      <th>59</th>\n",
              "      <td>Chris Bosh</td>\n",
              "      <td>4</td>\n",
              "    </tr>\n",
              "    <tr>\n",
              "      <th>85</th>\n",
              "      <td>Michael Carter-Williams</td>\n",
              "      <td>4</td>\n",
              "    </tr>\n",
              "    <tr>\n",
              "      <th>99</th>\n",
              "      <td>Mike Conley</td>\n",
              "      <td>4</td>\n",
              "    </tr>\n",
              "    <tr>\n",
              "      <th>101</th>\n",
              "      <td>DeMarcus Cousins</td>\n",
              "      <td>4</td>\n",
              "    </tr>\n",
              "    <tr>\n",
              "      <th>110</th>\n",
              "      <td>Stephen Curry</td>\n",
              "      <td>4</td>\n",
              "    </tr>\n",
              "    <tr>\n",
              "      <th>115</th>\n",
              "      <td>Anthony Davis</td>\n",
              "      <td>4</td>\n",
              "    </tr>\n",
              "    <tr>\n",
              "      <th>123</th>\n",
              "      <td>DeMar DeRozan</td>\n",
              "      <td>4</td>\n",
              "    </tr>\n",
              "    <tr>\n",
              "      <th>128</th>\n",
              "      <td>Goran Dragic</td>\n",
              "      <td>4</td>\n",
              "    </tr>\n",
              "    <tr>\n",
              "      <th>129</th>\n",
              "      <td>Andre Drummond</td>\n",
              "      <td>4</td>\n",
              "    </tr>\n",
              "    <tr>\n",
              "      <th>133</th>\n",
              "      <td>Kevin Durant</td>\n",
              "      <td>4</td>\n",
              "    </tr>\n",
              "    <tr>\n",
              "      <th>136</th>\n",
              "      <td>Monta Ellis</td>\n",
              "      <td>4</td>\n",
              "    </tr>\n",
              "    <tr>\n",
              "      <th>160</th>\n",
              "      <td>Rudy Gay</td>\n",
              "      <td>4</td>\n",
              "    </tr>\n",
              "    <tr>\n",
              "      <th>162</th>\n",
              "      <td>Paul George</td>\n",
              "      <td>4</td>\n",
              "    </tr>\n",
              "    <tr>\n",
              "      <th>171</th>\n",
              "      <td>Marcin Gortat</td>\n",
              "      <td>4</td>\n",
              "    </tr>\n",
              "    <tr>\n",
              "      <th>177</th>\n",
              "      <td>Jeff Green</td>\n",
              "      <td>4</td>\n",
              "    </tr>\n",
              "    <tr>\n",
              "      <th>179</th>\n",
              "      <td>Blake Griffin</td>\n",
              "      <td>4</td>\n",
              "    </tr>\n",
              "    <tr>\n",
              "      <th>185</th>\n",
              "      <td>James Harden</td>\n",
              "      <td>4</td>\n",
              "    </tr>\n",
              "    <tr>\n",
              "      <th>197</th>\n",
              "      <td>Gordon Hayward</td>\n",
              "      <td>4</td>\n",
              "    </tr>\n",
              "    <tr>\n",
              "      <th>212</th>\n",
              "      <td>Dwight Howard</td>\n",
              "      <td>4</td>\n",
              "    </tr>\n",
              "    <tr>\n",
              "      <th>215</th>\n",
              "      <td>Serge Ibaka</td>\n",
              "      <td>4</td>\n",
              "    </tr>\n",
              "    <tr>\n",
              "      <th>218</th>\n",
              "      <td>Kyrie Irving</td>\n",
              "      <td>4</td>\n",
              "    </tr>\n",
              "    <tr>\n",
              "      <th>225</th>\n",
              "      <td>LeBron James</td>\n",
              "      <td>4</td>\n",
              "    </tr>\n",
              "    <tr>\n",
              "      <th>229</th>\n",
              "      <td>Al Jefferson</td>\n",
              "      <td>4</td>\n",
              "    </tr>\n",
              "    <tr>\n",
              "      <th>232</th>\n",
              "      <td>Brandon Jennings</td>\n",
              "      <td>4</td>\n",
              "    </tr>\n",
              "    <tr>\n",
              "      <th>237</th>\n",
              "      <td>Joe Johnson</td>\n",
              "      <td>4</td>\n",
              "    </tr>\n",
              "    <tr>\n",
              "      <th>253</th>\n",
              "      <td>Brandon Knight</td>\n",
              "      <td>4</td>\n",
              "    </tr>\n",
              "    <tr>\n",
              "      <th>265</th>\n",
              "      <td>David Lee</td>\n",
              "      <td>4</td>\n",
              "    </tr>\n",
              "    <tr>\n",
              "      <th>272</th>\n",
              "      <td>Damian Lillard</td>\n",
              "      <td>4</td>\n",
              "    </tr>\n",
              "    <tr>\n",
              "      <th>277</th>\n",
              "      <td>Kevin Love</td>\n",
              "      <td>4</td>\n",
              "    </tr>\n",
              "    <tr>\n",
              "      <th>278</th>\n",
              "      <td>Kyle Lowry</td>\n",
              "      <td>4</td>\n",
              "    </tr>\n",
              "    <tr>\n",
              "      <th>288</th>\n",
              "      <td>Wesley Matthews</td>\n",
              "      <td>4</td>\n",
              "    </tr>\n",
              "    <tr>\n",
              "      <th>307</th>\n",
              "      <td>Paul Millsap</td>\n",
              "      <td>4</td>\n",
              "    </tr>\n",
              "    <tr>\n",
              "      <th>310</th>\n",
              "      <td>Greg Monroe</td>\n",
              "      <td>4</td>\n",
              "    </tr>\n",
              "    <tr>\n",
              "      <th>330</th>\n",
              "      <td>Joakim Noah</td>\n",
              "      <td>4</td>\n",
              "    </tr>\n",
              "    <tr>\n",
              "      <th>332</th>\n",
              "      <td>Dirk Nowitzki</td>\n",
              "      <td>4</td>\n",
              "    </tr>\n",
              "    <tr>\n",
              "      <th>345</th>\n",
              "      <td>Chandler Parsons</td>\n",
              "      <td>4</td>\n",
              "    </tr>\n",
              "    <tr>\n",
              "      <th>365</th>\n",
              "      <td>Zach Randolph</td>\n",
              "      <td>4</td>\n",
              "    </tr>\n",
              "    <tr>\n",
              "      <th>402</th>\n",
              "      <td>Josh Smith</td>\n",
              "      <td>4</td>\n",
              "    </tr>\n",
              "    <tr>\n",
              "      <th>408</th>\n",
              "      <td>Lance Stephenson</td>\n",
              "      <td>4</td>\n",
              "    </tr>\n",
              "    <tr>\n",
              "      <th>416</th>\n",
              "      <td>Jeff Teague</td>\n",
              "      <td>4</td>\n",
              "    </tr>\n",
              "    <tr>\n",
              "      <th>423</th>\n",
              "      <td>Isaiah Thomas</td>\n",
              "      <td>4</td>\n",
              "    </tr>\n",
              "    <tr>\n",
              "      <th>428</th>\n",
              "      <td>Klay Thompson</td>\n",
              "      <td>4</td>\n",
              "    </tr>\n",
              "    <tr>\n",
              "      <th>436</th>\n",
              "      <td>Evan Turner</td>\n",
              "      <td>4</td>\n",
              "    </tr>\n",
              "    <tr>\n",
              "      <th>450</th>\n",
              "      <td>Kemba Walker</td>\n",
              "      <td>4</td>\n",
              "    </tr>\n",
              "    <tr>\n",
              "      <th>451</th>\n",
              "      <td>John Wall</td>\n",
              "      <td>4</td>\n",
              "    </tr>\n",
              "    <tr>\n",
              "      <th>458</th>\n",
              "      <td>David West</td>\n",
              "      <td>4</td>\n",
              "    </tr>\n",
              "    <tr>\n",
              "      <th>478</th>\n",
              "      <td>Thaddeus Young</td>\n",
              "      <td>4</td>\n",
              "    </tr>\n",
              "  </tbody>\n",
              "</table>\n",
              "</div>"
            ],
            "text/plain": [
              "                 player_name  cluster_no.\n",
              "3              Arron Afflalo            4\n",
              "6          LaMarcus Aldridge            4\n",
              "17           Carmelo Anthony            4\n",
              "37             Nicolas Batum            4\n",
              "41              Bradley Beal            4\n",
              "59                Chris Bosh            4\n",
              "85   Michael Carter-Williams            4\n",
              "99               Mike Conley            4\n",
              "101         DeMarcus Cousins            4\n",
              "110            Stephen Curry            4\n",
              "115            Anthony Davis            4\n",
              "123            DeMar DeRozan            4\n",
              "128             Goran Dragic            4\n",
              "129           Andre Drummond            4\n",
              "133             Kevin Durant            4\n",
              "136              Monta Ellis            4\n",
              "160                 Rudy Gay            4\n",
              "162              Paul George            4\n",
              "171            Marcin Gortat            4\n",
              "177               Jeff Green            4\n",
              "179            Blake Griffin            4\n",
              "185             James Harden            4\n",
              "197           Gordon Hayward            4\n",
              "212            Dwight Howard            4\n",
              "215              Serge Ibaka            4\n",
              "218             Kyrie Irving            4\n",
              "225             LeBron James            4\n",
              "229             Al Jefferson            4\n",
              "232         Brandon Jennings            4\n",
              "237              Joe Johnson            4\n",
              "253           Brandon Knight            4\n",
              "265                David Lee            4\n",
              "272           Damian Lillard            4\n",
              "277               Kevin Love            4\n",
              "278               Kyle Lowry            4\n",
              "288          Wesley Matthews            4\n",
              "307             Paul Millsap            4\n",
              "310              Greg Monroe            4\n",
              "330              Joakim Noah            4\n",
              "332            Dirk Nowitzki            4\n",
              "345         Chandler Parsons            4\n",
              "365            Zach Randolph            4\n",
              "402               Josh Smith            4\n",
              "408         Lance Stephenson            4\n",
              "416              Jeff Teague            4\n",
              "423            Isaiah Thomas            4\n",
              "428            Klay Thompson            4\n",
              "436              Evan Turner            4\n",
              "450             Kemba Walker            4\n",
              "451                John Wall            4\n",
              "458               David West            4\n",
              "478           Thaddeus Young            4"
            ]
          },
          "metadata": {
            "tags": []
          },
          "execution_count": 15
        }
      ]
    },
    {
      "cell_type": "markdown",
      "metadata": {
        "id": "rTWq19ljr9pF"
      },
      "source": [
        "**Let us predict the values using Linear Regression**"
      ]
    },
    {
      "cell_type": "code",
      "metadata": {
        "id": "59khVzpTr2yf"
      },
      "source": [
        "from sklearn.decomposition import PCA\n",
        "pca = PCA(2)\n",
        "plot_columns = pca.fit_transform(num_columns)"
      ],
      "execution_count": 16,
      "outputs": []
    },
    {
      "cell_type": "code",
      "metadata": {
        "id": "d_6nTaq2sGjg"
      },
      "source": [
        "data.drop(['pos','season','season_end','bref_team_id'],axis=1,inplace =True)"
      ],
      "execution_count": 17,
      "outputs": []
    },
    {
      "cell_type": "code",
      "metadata": {
        "id": "Z2hDJaA0sIvD",
        "outputId": "b0b38ca8-42e0-46b1-8efe-765beb1bcd3b",
        "colab": {
          "base_uri": "https://localhost:8080/"
        }
      },
      "source": [
        "data.info()"
      ],
      "execution_count": 18,
      "outputs": [
        {
          "output_type": "stream",
          "text": [
            "<class 'pandas.core.frame.DataFrame'>\n",
            "RangeIndex: 481 entries, 0 to 480\n",
            "Data columns (total 27 columns):\n",
            " #   Column  Non-Null Count  Dtype  \n",
            "---  ------  --------------  -----  \n",
            " 0   player  481 non-null    object \n",
            " 1   age     481 non-null    int64  \n",
            " 2   g       481 non-null    int64  \n",
            " 3   gs      481 non-null    int64  \n",
            " 4   mp      481 non-null    int64  \n",
            " 5   fg      481 non-null    int64  \n",
            " 6   fga     481 non-null    int64  \n",
            " 7   fg.     479 non-null    float64\n",
            " 8   x3p     481 non-null    int64  \n",
            " 9   x3pa    481 non-null    int64  \n",
            " 10  x3p.    414 non-null    float64\n",
            " 11  x2p     481 non-null    int64  \n",
            " 12  x2pa    481 non-null    int64  \n",
            " 13  x2p.    478 non-null    float64\n",
            " 14  efg.    479 non-null    float64\n",
            " 15  ft      481 non-null    int64  \n",
            " 16  fta     481 non-null    int64  \n",
            " 17  ft.     461 non-null    float64\n",
            " 18  orb     481 non-null    int64  \n",
            " 19  drb     481 non-null    int64  \n",
            " 20  trb     481 non-null    int64  \n",
            " 21  ast     481 non-null    int64  \n",
            " 22  stl     481 non-null    int64  \n",
            " 23  blk     481 non-null    int64  \n",
            " 24  tov     481 non-null    int64  \n",
            " 25  pf      481 non-null    int64  \n",
            " 26  pts     481 non-null    int64  \n",
            "dtypes: float64(5), int64(21), object(1)\n",
            "memory usage: 101.6+ KB\n"
          ],
          "name": "stdout"
        }
      ]
    },
    {
      "cell_type": "code",
      "metadata": {
        "id": "femGtIw7sNhz",
        "outputId": "255c01a8-e479-4327-a3d0-8a19b109f956",
        "colab": {
          "base_uri": "https://localhost:8080/",
          "height": 419
        }
      },
      "source": [
        "new = data[['player','fta','fga','x3pa','pts']]\n",
        "new"
      ],
      "execution_count": 19,
      "outputs": [
        {
          "output_type": "execute_result",
          "data": {
            "text/html": [
              "<div>\n",
              "<style scoped>\n",
              "    .dataframe tbody tr th:only-of-type {\n",
              "        vertical-align: middle;\n",
              "    }\n",
              "\n",
              "    .dataframe tbody tr th {\n",
              "        vertical-align: top;\n",
              "    }\n",
              "\n",
              "    .dataframe thead th {\n",
              "        text-align: right;\n",
              "    }\n",
              "</style>\n",
              "<table border=\"1\" class=\"dataframe\">\n",
              "  <thead>\n",
              "    <tr style=\"text-align: right;\">\n",
              "      <th></th>\n",
              "      <th>player</th>\n",
              "      <th>fta</th>\n",
              "      <th>fga</th>\n",
              "      <th>x3pa</th>\n",
              "      <th>pts</th>\n",
              "    </tr>\n",
              "  </thead>\n",
              "  <tbody>\n",
              "    <tr>\n",
              "      <th>0</th>\n",
              "      <td>Quincy Acy</td>\n",
              "      <td>53</td>\n",
              "      <td>141</td>\n",
              "      <td>15</td>\n",
              "      <td>171</td>\n",
              "    </tr>\n",
              "    <tr>\n",
              "      <th>1</th>\n",
              "      <td>Steven Adams</td>\n",
              "      <td>136</td>\n",
              "      <td>185</td>\n",
              "      <td>0</td>\n",
              "      <td>265</td>\n",
              "    </tr>\n",
              "    <tr>\n",
              "      <th>2</th>\n",
              "      <td>Jeff Adrien</td>\n",
              "      <td>119</td>\n",
              "      <td>275</td>\n",
              "      <td>0</td>\n",
              "      <td>362</td>\n",
              "    </tr>\n",
              "    <tr>\n",
              "      <th>3</th>\n",
              "      <td>Arron Afflalo</td>\n",
              "      <td>336</td>\n",
              "      <td>1011</td>\n",
              "      <td>300</td>\n",
              "      <td>1330</td>\n",
              "    </tr>\n",
              "    <tr>\n",
              "      <th>4</th>\n",
              "      <td>Alexis Ajinca</td>\n",
              "      <td>67</td>\n",
              "      <td>249</td>\n",
              "      <td>1</td>\n",
              "      <td>328</td>\n",
              "    </tr>\n",
              "    <tr>\n",
              "      <th>...</th>\n",
              "      <td>...</td>\n",
              "      <td>...</td>\n",
              "      <td>...</td>\n",
              "      <td>...</td>\n",
              "      <td>...</td>\n",
              "    </tr>\n",
              "    <tr>\n",
              "      <th>476</th>\n",
              "      <td>Tony Wroten</td>\n",
              "      <td>326</td>\n",
              "      <td>808</td>\n",
              "      <td>188</td>\n",
              "      <td>939</td>\n",
              "    </tr>\n",
              "    <tr>\n",
              "      <th>477</th>\n",
              "      <td>Nick Young</td>\n",
              "      <td>285</td>\n",
              "      <td>889</td>\n",
              "      <td>350</td>\n",
              "      <td>1144</td>\n",
              "    </tr>\n",
              "    <tr>\n",
              "      <th>478</th>\n",
              "      <td>Thaddeus Young</td>\n",
              "      <td>229</td>\n",
              "      <td>1283</td>\n",
              "      <td>292</td>\n",
              "      <td>1417</td>\n",
              "    </tr>\n",
              "    <tr>\n",
              "      <th>479</th>\n",
              "      <td>Cody Zeller</td>\n",
              "      <td>200</td>\n",
              "      <td>404</td>\n",
              "      <td>1</td>\n",
              "      <td>490</td>\n",
              "    </tr>\n",
              "    <tr>\n",
              "      <th>480</th>\n",
              "      <td>Tyler Zeller</td>\n",
              "      <td>121</td>\n",
              "      <td>290</td>\n",
              "      <td>1</td>\n",
              "      <td>399</td>\n",
              "    </tr>\n",
              "  </tbody>\n",
              "</table>\n",
              "<p>481 rows × 5 columns</p>\n",
              "</div>"
            ],
            "text/plain": [
              "             player  fta   fga  x3pa   pts\n",
              "0        Quincy Acy   53   141    15   171\n",
              "1      Steven Adams  136   185     0   265\n",
              "2       Jeff Adrien  119   275     0   362\n",
              "3     Arron Afflalo  336  1011   300  1330\n",
              "4     Alexis Ajinca   67   249     1   328\n",
              "..              ...  ...   ...   ...   ...\n",
              "476     Tony Wroten  326   808   188   939\n",
              "477      Nick Young  285   889   350  1144\n",
              "478  Thaddeus Young  229  1283   292  1417\n",
              "479     Cody Zeller  200   404     1   490\n",
              "480    Tyler Zeller  121   290     1   399\n",
              "\n",
              "[481 rows x 5 columns]"
            ]
          },
          "metadata": {
            "tags": []
          },
          "execution_count": 19
        }
      ]
    },
    {
      "cell_type": "code",
      "metadata": {
        "id": "VJVRJLRLsQi1",
        "outputId": "648218f4-e529-4d57-ee1c-72205951e58c",
        "colab": {
          "base_uri": "https://localhost:8080/",
          "height": 173
        }
      },
      "source": [
        "new.describe().T"
      ],
      "execution_count": 21,
      "outputs": [
        {
          "output_type": "execute_result",
          "data": {
            "text/html": [
              "<div>\n",
              "<style scoped>\n",
              "    .dataframe tbody tr th:only-of-type {\n",
              "        vertical-align: middle;\n",
              "    }\n",
              "\n",
              "    .dataframe tbody tr th {\n",
              "        vertical-align: top;\n",
              "    }\n",
              "\n",
              "    .dataframe thead th {\n",
              "        text-align: right;\n",
              "    }\n",
              "</style>\n",
              "<table border=\"1\" class=\"dataframe\">\n",
              "  <thead>\n",
              "    <tr style=\"text-align: right;\">\n",
              "      <th></th>\n",
              "      <th>count</th>\n",
              "      <th>mean</th>\n",
              "      <th>std</th>\n",
              "      <th>min</th>\n",
              "      <th>25%</th>\n",
              "      <th>50%</th>\n",
              "      <th>75%</th>\n",
              "      <th>max</th>\n",
              "    </tr>\n",
              "  </thead>\n",
              "  <tbody>\n",
              "    <tr>\n",
              "      <th>fta</th>\n",
              "      <td>481.0</td>\n",
              "      <td>120.642412</td>\n",
              "      <td>131.240639</td>\n",
              "      <td>0.0</td>\n",
              "      <td>22.0</td>\n",
              "      <td>73.0</td>\n",
              "      <td>179.0</td>\n",
              "      <td>805.0</td>\n",
              "    </tr>\n",
              "    <tr>\n",
              "      <th>fga</th>\n",
              "      <td>481.0</td>\n",
              "      <td>424.463617</td>\n",
              "      <td>368.850833</td>\n",
              "      <td>0.0</td>\n",
              "      <td>110.0</td>\n",
              "      <td>332.0</td>\n",
              "      <td>672.0</td>\n",
              "      <td>1688.0</td>\n",
              "    </tr>\n",
              "    <tr>\n",
              "      <th>x3pa</th>\n",
              "      <td>481.0</td>\n",
              "      <td>110.130977</td>\n",
              "      <td>132.751732</td>\n",
              "      <td>0.0</td>\n",
              "      <td>3.0</td>\n",
              "      <td>48.0</td>\n",
              "      <td>193.0</td>\n",
              "      <td>615.0</td>\n",
              "    </tr>\n",
              "    <tr>\n",
              "      <th>pts</th>\n",
              "      <td>481.0</td>\n",
              "      <td>516.582121</td>\n",
              "      <td>470.422228</td>\n",
              "      <td>0.0</td>\n",
              "      <td>115.0</td>\n",
              "      <td>401.0</td>\n",
              "      <td>821.0</td>\n",
              "      <td>2593.0</td>\n",
              "    </tr>\n",
              "  </tbody>\n",
              "</table>\n",
              "</div>"
            ],
            "text/plain": [
              "      count        mean         std  min    25%    50%    75%     max\n",
              "fta   481.0  120.642412  131.240639  0.0   22.0   73.0  179.0   805.0\n",
              "fga   481.0  424.463617  368.850833  0.0  110.0  332.0  672.0  1688.0\n",
              "x3pa  481.0  110.130977  132.751732  0.0    3.0   48.0  193.0   615.0\n",
              "pts   481.0  516.582121  470.422228  0.0  115.0  401.0  821.0  2593.0"
            ]
          },
          "metadata": {
            "tags": []
          },
          "execution_count": 21
        }
      ]
    },
    {
      "cell_type": "code",
      "metadata": {
        "id": "uPQbuLtZsToX",
        "outputId": "40ca2347-1e46-4061-d7b7-594154960cd4",
        "colab": {
          "base_uri": "https://localhost:8080/",
          "height": 225
        }
      },
      "source": [
        "dummies = pd.get_dummies(new.player)\n",
        "dummies.head(3)"
      ],
      "execution_count": 22,
      "outputs": [
        {
          "output_type": "execute_result",
          "data": {
            "text/html": [
              "<div>\n",
              "<style scoped>\n",
              "    .dataframe tbody tr th:only-of-type {\n",
              "        vertical-align: middle;\n",
              "    }\n",
              "\n",
              "    .dataframe tbody tr th {\n",
              "        vertical-align: top;\n",
              "    }\n",
              "\n",
              "    .dataframe thead th {\n",
              "        text-align: right;\n",
              "    }\n",
              "</style>\n",
              "<table border=\"1\" class=\"dataframe\">\n",
              "  <thead>\n",
              "    <tr style=\"text-align: right;\">\n",
              "      <th></th>\n",
              "      <th>A.J. Price</th>\n",
              "      <th>Aaron Brooks</th>\n",
              "      <th>Aaron Gray</th>\n",
              "      <th>Adonis Thomas</th>\n",
              "      <th>Al Harrington</th>\n",
              "      <th>Al Horford</th>\n",
              "      <th>Al Jefferson</th>\n",
              "      <th>Al-Farouq Aminu</th>\n",
              "      <th>Alan Anderson</th>\n",
              "      <th>Alec Burks</th>\n",
              "      <th>Alex Len</th>\n",
              "      <th>Alexey Shved</th>\n",
              "      <th>Alexis Ajinca</th>\n",
              "      <th>Allen Crabbe</th>\n",
              "      <th>Alonzo Gee</th>\n",
              "      <th>Amar'e Stoudemire</th>\n",
              "      <th>Amir Johnson</th>\n",
              "      <th>Anderson Varejao</th>\n",
              "      <th>Andray Blatche</th>\n",
              "      <th>Andre Drummond</th>\n",
              "      <th>Andre Iguodala</th>\n",
              "      <th>Andre Miller</th>\n",
              "      <th>Andre Roberson</th>\n",
              "      <th>Andrea Bargnani</th>\n",
              "      <th>Andrei Kirilenko</th>\n",
              "      <th>Andrew Bogut</th>\n",
              "      <th>Andrew Bynum</th>\n",
              "      <th>Andrew Nicholson</th>\n",
              "      <th>Andris Biedrins</th>\n",
              "      <th>Antawn Jamison</th>\n",
              "      <th>Anthony Bennett</th>\n",
              "      <th>Anthony Davis</th>\n",
              "      <th>Anthony Morrow</th>\n",
              "      <th>Anthony Randolph</th>\n",
              "      <th>Anthony Tolliver</th>\n",
              "      <th>Archie Goodwin</th>\n",
              "      <th>Arinze Onuaku</th>\n",
              "      <th>Arnett Moultrie</th>\n",
              "      <th>Aron Baynes</th>\n",
              "      <th>Arron Afflalo</th>\n",
              "      <th>...</th>\n",
              "      <th>Tim Hardaway</th>\n",
              "      <th>Timofey Mozgov</th>\n",
              "      <th>Tobias Harris</th>\n",
              "      <th>Toney Douglas</th>\n",
              "      <th>Tony Allen</th>\n",
              "      <th>Tony Mitchell</th>\n",
              "      <th>Tony Parker</th>\n",
              "      <th>Tony Snell</th>\n",
              "      <th>Tony Wroten</th>\n",
              "      <th>Tornike Shengelia</th>\n",
              "      <th>Toure' Murry</th>\n",
              "      <th>Travis Outlaw</th>\n",
              "      <th>Trevor Ariza</th>\n",
              "      <th>Trevor Booker</th>\n",
              "      <th>Trey Burke</th>\n",
              "      <th>Tristan Thompson</th>\n",
              "      <th>Troy Daniels</th>\n",
              "      <th>Ty Lawson</th>\n",
              "      <th>Tyler Hansbrough</th>\n",
              "      <th>Tyler Zeller</th>\n",
              "      <th>Tyreke Evans</th>\n",
              "      <th>Tyshawn Taylor</th>\n",
              "      <th>Tyson Chandler</th>\n",
              "      <th>Udonis Haslem</th>\n",
              "      <th>Vander Blue</th>\n",
              "      <th>Viacheslav Kravtsov</th>\n",
              "      <th>Victor Claver</th>\n",
              "      <th>Victor Oladipo</th>\n",
              "      <th>Vince Carter</th>\n",
              "      <th>Vitor Faverani</th>\n",
              "      <th>Wayne Ellington</th>\n",
              "      <th>Wesley Johnson</th>\n",
              "      <th>Wesley Matthews</th>\n",
              "      <th>Will Barton</th>\n",
              "      <th>Will Bynum</th>\n",
              "      <th>Willie Green</th>\n",
              "      <th>Wilson Chandler</th>\n",
              "      <th>Xavier Henry</th>\n",
              "      <th>Zach Randolph</th>\n",
              "      <th>Zaza Pachulia</th>\n",
              "    </tr>\n",
              "  </thead>\n",
              "  <tbody>\n",
              "    <tr>\n",
              "      <th>0</th>\n",
              "      <td>0</td>\n",
              "      <td>0</td>\n",
              "      <td>0</td>\n",
              "      <td>0</td>\n",
              "      <td>0</td>\n",
              "      <td>0</td>\n",
              "      <td>0</td>\n",
              "      <td>0</td>\n",
              "      <td>0</td>\n",
              "      <td>0</td>\n",
              "      <td>0</td>\n",
              "      <td>0</td>\n",
              "      <td>0</td>\n",
              "      <td>0</td>\n",
              "      <td>0</td>\n",
              "      <td>0</td>\n",
              "      <td>0</td>\n",
              "      <td>0</td>\n",
              "      <td>0</td>\n",
              "      <td>0</td>\n",
              "      <td>0</td>\n",
              "      <td>0</td>\n",
              "      <td>0</td>\n",
              "      <td>0</td>\n",
              "      <td>0</td>\n",
              "      <td>0</td>\n",
              "      <td>0</td>\n",
              "      <td>0</td>\n",
              "      <td>0</td>\n",
              "      <td>0</td>\n",
              "      <td>0</td>\n",
              "      <td>0</td>\n",
              "      <td>0</td>\n",
              "      <td>0</td>\n",
              "      <td>0</td>\n",
              "      <td>0</td>\n",
              "      <td>0</td>\n",
              "      <td>0</td>\n",
              "      <td>0</td>\n",
              "      <td>0</td>\n",
              "      <td>...</td>\n",
              "      <td>0</td>\n",
              "      <td>0</td>\n",
              "      <td>0</td>\n",
              "      <td>0</td>\n",
              "      <td>0</td>\n",
              "      <td>0</td>\n",
              "      <td>0</td>\n",
              "      <td>0</td>\n",
              "      <td>0</td>\n",
              "      <td>0</td>\n",
              "      <td>0</td>\n",
              "      <td>0</td>\n",
              "      <td>0</td>\n",
              "      <td>0</td>\n",
              "      <td>0</td>\n",
              "      <td>0</td>\n",
              "      <td>0</td>\n",
              "      <td>0</td>\n",
              "      <td>0</td>\n",
              "      <td>0</td>\n",
              "      <td>0</td>\n",
              "      <td>0</td>\n",
              "      <td>0</td>\n",
              "      <td>0</td>\n",
              "      <td>0</td>\n",
              "      <td>0</td>\n",
              "      <td>0</td>\n",
              "      <td>0</td>\n",
              "      <td>0</td>\n",
              "      <td>0</td>\n",
              "      <td>0</td>\n",
              "      <td>0</td>\n",
              "      <td>0</td>\n",
              "      <td>0</td>\n",
              "      <td>0</td>\n",
              "      <td>0</td>\n",
              "      <td>0</td>\n",
              "      <td>0</td>\n",
              "      <td>0</td>\n",
              "      <td>0</td>\n",
              "    </tr>\n",
              "    <tr>\n",
              "      <th>1</th>\n",
              "      <td>0</td>\n",
              "      <td>0</td>\n",
              "      <td>0</td>\n",
              "      <td>0</td>\n",
              "      <td>0</td>\n",
              "      <td>0</td>\n",
              "      <td>0</td>\n",
              "      <td>0</td>\n",
              "      <td>0</td>\n",
              "      <td>0</td>\n",
              "      <td>0</td>\n",
              "      <td>0</td>\n",
              "      <td>0</td>\n",
              "      <td>0</td>\n",
              "      <td>0</td>\n",
              "      <td>0</td>\n",
              "      <td>0</td>\n",
              "      <td>0</td>\n",
              "      <td>0</td>\n",
              "      <td>0</td>\n",
              "      <td>0</td>\n",
              "      <td>0</td>\n",
              "      <td>0</td>\n",
              "      <td>0</td>\n",
              "      <td>0</td>\n",
              "      <td>0</td>\n",
              "      <td>0</td>\n",
              "      <td>0</td>\n",
              "      <td>0</td>\n",
              "      <td>0</td>\n",
              "      <td>0</td>\n",
              "      <td>0</td>\n",
              "      <td>0</td>\n",
              "      <td>0</td>\n",
              "      <td>0</td>\n",
              "      <td>0</td>\n",
              "      <td>0</td>\n",
              "      <td>0</td>\n",
              "      <td>0</td>\n",
              "      <td>0</td>\n",
              "      <td>...</td>\n",
              "      <td>0</td>\n",
              "      <td>0</td>\n",
              "      <td>0</td>\n",
              "      <td>0</td>\n",
              "      <td>0</td>\n",
              "      <td>0</td>\n",
              "      <td>0</td>\n",
              "      <td>0</td>\n",
              "      <td>0</td>\n",
              "      <td>0</td>\n",
              "      <td>0</td>\n",
              "      <td>0</td>\n",
              "      <td>0</td>\n",
              "      <td>0</td>\n",
              "      <td>0</td>\n",
              "      <td>0</td>\n",
              "      <td>0</td>\n",
              "      <td>0</td>\n",
              "      <td>0</td>\n",
              "      <td>0</td>\n",
              "      <td>0</td>\n",
              "      <td>0</td>\n",
              "      <td>0</td>\n",
              "      <td>0</td>\n",
              "      <td>0</td>\n",
              "      <td>0</td>\n",
              "      <td>0</td>\n",
              "      <td>0</td>\n",
              "      <td>0</td>\n",
              "      <td>0</td>\n",
              "      <td>0</td>\n",
              "      <td>0</td>\n",
              "      <td>0</td>\n",
              "      <td>0</td>\n",
              "      <td>0</td>\n",
              "      <td>0</td>\n",
              "      <td>0</td>\n",
              "      <td>0</td>\n",
              "      <td>0</td>\n",
              "      <td>0</td>\n",
              "    </tr>\n",
              "    <tr>\n",
              "      <th>2</th>\n",
              "      <td>0</td>\n",
              "      <td>0</td>\n",
              "      <td>0</td>\n",
              "      <td>0</td>\n",
              "      <td>0</td>\n",
              "      <td>0</td>\n",
              "      <td>0</td>\n",
              "      <td>0</td>\n",
              "      <td>0</td>\n",
              "      <td>0</td>\n",
              "      <td>0</td>\n",
              "      <td>0</td>\n",
              "      <td>0</td>\n",
              "      <td>0</td>\n",
              "      <td>0</td>\n",
              "      <td>0</td>\n",
              "      <td>0</td>\n",
              "      <td>0</td>\n",
              "      <td>0</td>\n",
              "      <td>0</td>\n",
              "      <td>0</td>\n",
              "      <td>0</td>\n",
              "      <td>0</td>\n",
              "      <td>0</td>\n",
              "      <td>0</td>\n",
              "      <td>0</td>\n",
              "      <td>0</td>\n",
              "      <td>0</td>\n",
              "      <td>0</td>\n",
              "      <td>0</td>\n",
              "      <td>0</td>\n",
              "      <td>0</td>\n",
              "      <td>0</td>\n",
              "      <td>0</td>\n",
              "      <td>0</td>\n",
              "      <td>0</td>\n",
              "      <td>0</td>\n",
              "      <td>0</td>\n",
              "      <td>0</td>\n",
              "      <td>0</td>\n",
              "      <td>...</td>\n",
              "      <td>0</td>\n",
              "      <td>0</td>\n",
              "      <td>0</td>\n",
              "      <td>0</td>\n",
              "      <td>0</td>\n",
              "      <td>0</td>\n",
              "      <td>0</td>\n",
              "      <td>0</td>\n",
              "      <td>0</td>\n",
              "      <td>0</td>\n",
              "      <td>0</td>\n",
              "      <td>0</td>\n",
              "      <td>0</td>\n",
              "      <td>0</td>\n",
              "      <td>0</td>\n",
              "      <td>0</td>\n",
              "      <td>0</td>\n",
              "      <td>0</td>\n",
              "      <td>0</td>\n",
              "      <td>0</td>\n",
              "      <td>0</td>\n",
              "      <td>0</td>\n",
              "      <td>0</td>\n",
              "      <td>0</td>\n",
              "      <td>0</td>\n",
              "      <td>0</td>\n",
              "      <td>0</td>\n",
              "      <td>0</td>\n",
              "      <td>0</td>\n",
              "      <td>0</td>\n",
              "      <td>0</td>\n",
              "      <td>0</td>\n",
              "      <td>0</td>\n",
              "      <td>0</td>\n",
              "      <td>0</td>\n",
              "      <td>0</td>\n",
              "      <td>0</td>\n",
              "      <td>0</td>\n",
              "      <td>0</td>\n",
              "      <td>0</td>\n",
              "    </tr>\n",
              "  </tbody>\n",
              "</table>\n",
              "<p>3 rows × 481 columns</p>\n",
              "</div>"
            ],
            "text/plain": [
              "   A.J. Price  Aaron Brooks  ...  Zach Randolph  Zaza Pachulia\n",
              "0           0             0  ...              0              0\n",
              "1           0             0  ...              0              0\n",
              "2           0             0  ...              0              0\n",
              "\n",
              "[3 rows x 481 columns]"
            ]
          },
          "metadata": {
            "tags": []
          },
          "execution_count": 22
        }
      ]
    },
    {
      "cell_type": "code",
      "metadata": {
        "id": "EnyZ-Q1jsZYZ"
      },
      "source": [
        "data1 = pd.concat([dummies,new],axis = 1)"
      ],
      "execution_count": 23,
      "outputs": []
    },
    {
      "cell_type": "code",
      "metadata": {
        "id": "9HjssIgHsb38"
      },
      "source": [
        "data1.drop(['player'],axis = 1,inplace =True)"
      ],
      "execution_count": 24,
      "outputs": []
    },
    {
      "cell_type": "code",
      "metadata": {
        "id": "FjR7O904sebx"
      },
      "source": [
        "X = data1.drop(['pts'],axis = 1)\n",
        "y = data1['pts']"
      ],
      "execution_count": 25,
      "outputs": []
    },
    {
      "cell_type": "code",
      "metadata": {
        "id": "EqRHUVe3sgmc",
        "outputId": "a1a3cf6f-7169-4c1d-b486-8ffcb71a4dbe",
        "colab": {
          "base_uri": "https://localhost:8080/"
        }
      },
      "source": [
        "print(X.shape)\n",
        "print(y.shape)"
      ],
      "execution_count": 26,
      "outputs": [
        {
          "output_type": "stream",
          "text": [
            "(481, 484)\n",
            "(481,)\n"
          ],
          "name": "stdout"
        }
      ]
    },
    {
      "cell_type": "code",
      "metadata": {
        "id": "LEJm5ekwsizc"
      },
      "source": [
        "from sklearn.model_selection import train_test_split\n",
        "X_train,X_test,y_train,y_test = train_test_split(X,y,test_size = 0.2,random_state = 100)"
      ],
      "execution_count": 27,
      "outputs": []
    },
    {
      "cell_type": "code",
      "metadata": {
        "id": "10ScxZLxslHr",
        "outputId": "4caeef20-47de-47ce-c49e-c651ae83af68",
        "colab": {
          "base_uri": "https://localhost:8080/"
        }
      },
      "source": [
        "y_test = y_test[:,np.newaxis]\n",
        "y_train = y_train[:,np.newaxis]"
      ],
      "execution_count": 28,
      "outputs": [
        {
          "output_type": "stream",
          "text": [
            "/usr/local/lib/python3.6/dist-packages/ipykernel_launcher.py:1: FutureWarning: Support for multi-dimensional indexing (e.g. `obj[:, None]`) is deprecated and will be removed in a future version.  Convert to a numpy array before indexing instead.\n",
            "  \"\"\"Entry point for launching an IPython kernel.\n",
            "/usr/local/lib/python3.6/dist-packages/ipykernel_launcher.py:2: FutureWarning: Support for multi-dimensional indexing (e.g. `obj[:, None]`) is deprecated and will be removed in a future version.  Convert to a numpy array before indexing instead.\n",
            "  \n"
          ],
          "name": "stderr"
        }
      ]
    },
    {
      "cell_type": "code",
      "metadata": {
        "id": "65c7DxSAsm9C",
        "outputId": "5351d246-1cff-4fc8-ee85-175fcb1e4b4d",
        "colab": {
          "base_uri": "https://localhost:8080/"
        }
      },
      "source": [
        "y_train.shape"
      ],
      "execution_count": 29,
      "outputs": [
        {
          "output_type": "execute_result",
          "data": {
            "text/plain": [
              "(384, 1)"
            ]
          },
          "metadata": {
            "tags": []
          },
          "execution_count": 29
        }
      ]
    },
    {
      "cell_type": "code",
      "metadata": {
        "id": "V5NKIu6xspEA",
        "outputId": "7a19b8fd-40b1-44c4-f807-64712b85db0a",
        "colab": {
          "base_uri": "https://localhost:8080/"
        }
      },
      "source": [
        "from sklearn.linear_model import LinearRegression\n",
        "Lr = LinearRegression()\n",
        "Lr.fit(X_train,y_train)"
      ],
      "execution_count": 30,
      "outputs": [
        {
          "output_type": "execute_result",
          "data": {
            "text/plain": [
              "LinearRegression(copy_X=True, fit_intercept=True, n_jobs=None, normalize=False)"
            ]
          },
          "metadata": {
            "tags": []
          },
          "execution_count": 30
        }
      ]
    },
    {
      "cell_type": "code",
      "metadata": {
        "id": "WCaTKwW5srJy",
        "outputId": "1a46fbf3-4376-4e78-8668-e217aa2763d5",
        "colab": {
          "base_uri": "https://localhost:8080/"
        }
      },
      "source": [
        "Lr.score(X_test,y_test)"
      ],
      "execution_count": 31,
      "outputs": [
        {
          "output_type": "execute_result",
          "data": {
            "text/plain": [
              "0.9905932319277113"
            ]
          },
          "metadata": {
            "tags": []
          },
          "execution_count": 31
        }
      ]
    },
    {
      "cell_type": "code",
      "metadata": {
        "id": "_9aeKL3HstwG"
      },
      "source": [
        "def predict_points(player,fta,fga,x3pa):    \n",
        "    loc_index = np.where(X.columns==player)[0][0]\n",
        "\n",
        "    x = np.zeros(len(X.columns))\n",
        "    x[0] = fta\n",
        "    x[1] = fga\n",
        "    x[2] = x3pa\n",
        "    if loc_index >= 0:\n",
        "        x[loc_index] = 1\n",
        "\n",
        "    return round(Lr.predict([x])[0][0])"
      ],
      "execution_count": 32,
      "outputs": []
    },
    {
      "cell_type": "code",
      "metadata": {
        "id": "kIFisJYlstjt",
        "outputId": "712ba8b0-097f-4920-f479-7aecefee1573",
        "colab": {
          "base_uri": "https://localhost:8080/"
        }
      },
      "source": [
        "# the points LBJ would score if he took 1011 free throws, 136 field goals attempt and 300 3 pointer shots\n",
        "predict_points('LeBron James',1011,136,300)"
      ],
      "execution_count": 33,
      "outputs": [
        {
          "output_type": "execute_result",
          "data": {
            "text/plain": [
              "4288.0"
            ]
          },
          "metadata": {
            "tags": []
          },
          "execution_count": 33
        }
      ]
    },
    {
      "cell_type": "code",
      "metadata": {
        "id": "5fJkX_Brswb-",
        "outputId": "aceb290b-f2b5-487d-b8a6-c99bbe2a39f7",
        "colab": {
          "base_uri": "https://localhost:8080/"
        }
      },
      "source": [
        "# predict the points of Kevin Durant, if he took 1011 free throws, 136 field goals attempt and 300 3 pointer shots\n",
        "predict_points('Kevin Durant',1011,136,300)"
      ],
      "execution_count": 36,
      "outputs": [
        {
          "output_type": "execute_result",
          "data": {
            "text/plain": [
              "4242.0"
            ]
          },
          "metadata": {
            "tags": []
          },
          "execution_count": 36
        }
      ]
    },
    {
      "cell_type": "code",
      "metadata": {
        "id": "ohB9oORftCrn",
        "outputId": "7e2d8496-efae-4f10-d6dd-703dc6ab6e61",
        "colab": {
          "base_uri": "https://localhost:8080/"
        }
      },
      "source": [
        "# predict the points of Jeff Adrien, if he took 1011 free throws, 136 field goals attempt and 300 3 pointer shots\n",
        "predict_points('Jeff Adrien',1011,136,300)"
      ],
      "execution_count": 37,
      "outputs": [
        {
          "output_type": "execute_result",
          "data": {
            "text/plain": [
              "4048.0"
            ]
          },
          "metadata": {
            "tags": []
          },
          "execution_count": 37
        }
      ]
    },
    {
      "cell_type": "code",
      "metadata": {
        "id": "e7fcGeN0tWME"
      },
      "source": [
        ""
      ],
      "execution_count": null,
      "outputs": []
    }
  ]
}